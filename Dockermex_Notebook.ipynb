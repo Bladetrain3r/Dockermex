{
 "cells": [
  {
   "cell_type": "markdown",
   "metadata": {},
   "source": [
    "# Dockermex Project Notebook\n",
    "\n",
    "## Overview\n",
    "This notebook provides a comprehensive guide to the Dockermex project - a full-stack webapp for hosting and managing DOOM servers with custom WADs and configurations.\n",
    "\n",
    "**Version:** 0.3 (Alpha)  \n",
    "**Primary Source Port:** Odamex  \n",
    "**Author:** zerofuchs\n",
    "\n",
    "---"
   ]
  },
  {
   "cell_type": "markdown",
   "metadata": {},
   "source": [
    "## Table of Contents\n",
    "\n",
    "1. [Project Goals & Purpose](#goals)\n",
    "2. [Architecture Overview](#architecture)\n",
    "3. [Quick Start Guide](#quickstart)\n",
    "4. [Environment Configuration](#environment)\n",
    "5. [Docker Components](#docker)\n",
    "6. [API Documentation](#api)\n",
    "7. [Configuration Management](#configuration)\n",
    "8. [Security Features](#security)\n",
    "9. [Development Workflow](#development)\n",
    "10. [Troubleshooting](#troubleshooting)\n",
    "11. [Contributing](#contributing)\n",
    "\n",
    "---"
   ]
  },
  {
   "cell_type": "markdown",
   "metadata": {},
   "source": [
    "## 1. Project Goals & Purpose {#goals}\n",
    "\n",
    "### What is Dockermex?\n",
    "A full-stack webapp designed for easily hosting DOOM servers with custom WADs and different server configurations, currently focused on Odamex as the source port.\n",
    "\n",
    "### Target Users\n",
    "- **Mappers** testing maps/mapsets with groups or co-op scenarios\n",
    "- **Casual Players** wanting quick server setup for friends/clan mates\n",
    "- **Community Hosts** running DOOM multiplayer for any purpose\n",
    "\n",
    "### Design Principles\n",
    "\n",
    "#### 🎯 **Declarative Webapp**\n",
    "Users declare what they want; the application handles implementation.\n",
    "\n",
    "#### 🧩 **Single Purpose Microservices**\n",
    "- Isolated component failures\n",
    "- Avoid bundled logic between modules\n",
    "- Graceful degradation\n",
    "\n",
    "#### 🚀 **Compose on a Dime**\n",
    "Docker-based building blocks for testing individual components or full stack.\n",
    "\n",
    "#### ⚙️ **Clean Configuration Management**\n",
    "- Nothing hardcoded that matters\n",
    "- Single source of truth for environments\n",
    "- Easy integration with secret stores\n",
    "\n",
    "#### 🔒 **Security First**\n",
    "- Out-of-box security configuration\n",
    "- Least privilege access\n",
    "- Straightforward authentication with solid barriers\n",
    "\n",
    "#### 👨‍💻 **Developer Friendly**\n",
    "- Self-documenting code\n",
    "- Easy local testing\n",
    "- Simple remote setup\n",
    "- Accessible for contributors\n"
   ]
  },
  {
   "cell_type": "markdown",
   "metadata": {},
   "source": [
    "## 2. Architecture Overview {#architecture}\n",
    "\n",
    "### High-Level Components\n",
    "\n",
    "```mermaid\n",
    "graph TB\n",
    "    User[👤 User] --> Frontend[🌐 Frontend]\n",
    "    Frontend --> API[🐍 Python API]\n",
    "    API --> DB[💾 SQLite DB]\n",
    "    API --> Docker[🐳 Docker Engine]\n",
    "    Docker --> Servers[🎮 Odamex Servers]\n",
    "    \n",
    "    subgraph \"Frontend Layer\"\n",
    "        Frontend\n",
    "        WAF[🛡️ ModSecurity WAF]\n",
    "        SSL[🔐 SSL/TLS]\n",
    "    end\n",
    "    \n",
    "    subgraph \"Application Layer\"\n",
    "        API\n",
    "        Auth[🔑 Authentication]\n",
    "        FileManager[📁 WAD Manager]\n",
    "    end\n",
    "    \n",
    "    subgraph \"Data Layer\"\n",
    "        DB\n",
    "        WADs[📦 WAD Files]\n",
    "        Configs[⚙️ Server Configs]\n",
    "    end\n",
    "```\n",
    "\n",
    "### Technology Stack\n",
    "\n",
    "| Component | Technology | Purpose |\n",
    "|-----------|------------|----------|\n",
    "| **Frontend** | Nginx + HTML/CSS/JS | Web interface, reverse proxy, SSL termination |\n",
    "| **API** | Python Flask | Core server logic, container management |\n",
    "| **Database** | SQLite | User management, WAD registry, metadata |\n",
    "| **Security** | ModSecurity WAF | Web application firewall |\n",
    "| **Game Servers** | Odamex (Docker) | Actual DOOM servers |\n",
    "| **Orchestration** | Docker Compose | Container management and networking |\n",
    "\n",
    "### Network Architecture\n",
    "\n",
    "- **Port 443**: HTTPS Frontend (Nginx + ModSecurity)\n",
    "- **Port 444**: WAD Download Service\n",
    "- **Port 5000**: Internal API (not exposed)\n",
    "- **Ports 10666+**: Game server UDP ports\n"
   ]
  },
  {
   "cell_type": "markdown",
   "metadata": {},
   "source": [
    "## 3. Quick Start Guide {#quickstart}\n",
    "\n",
    "### Prerequisites\n",
    "- Docker & Docker Compose\n",
    "- Python 3.10+\n",
    "- Git\n",
    "\n",
    "### Initial Setup"
   ]
  },
  {
   "cell_type": "code",
   "execution_count": null,
   "metadata": {
    "vscode": {
     "languageId": "shellscript"
    }
   },
   "outputs": [],
   "source": [
    "# 1. Clone the repository with submodules (API and Frontend)\n",
    "git clone --recurse-submodules https://github.com/Bladetrain3r/Dockermex.git\n",
    "cd Dockermex\n",
    "\n",
    "# 2. Create environment file from template\n",
    "cp .env.template .env\n",
    "\n",
    "# 3. Edit .env file with your settings\n",
    "# Set passwords, paths, and server configuration\n",
    "\n",
    "# 4. Create required directories\n",
    "mkdir -p iwads/freeware pwads sqlite service-configs\n",
    "\n",
    "# 5. Start the web application\n",
    "docker compose -f docker-compose-webapp-modsec.yml up -d\n",
    "\n",
    "# 6. Test Odamex servers (optional)\n",
    "docker compose -f docker-compose-odamex.yml up -d"
   ]
  },
  {
   "cell_type": "markdown",
   "metadata": {},
   "source": [
    "### First Steps After Setup\n",
    "\n",
    "1. **Login**: Navigate to `https://your-domain.com` and login with admin credentials\n",
    "2. **Upload WAD**: Use the upload interface to add a WAD file\n",
    "3. **Create Config**: Set up a server configuration\n",
    "4. **Share**: Provide server address to friends\n",
    "5. **Play**: Prove yourself lord of the frags! 🏆\n"
   ]
  },
  {
   "cell_type": "markdown",
   "metadata": {},
   "source": [
    "## 4. Environment Configuration {#environment}\n",
    "\n",
    "### .env File Structure\n",
    "\n",
    "The `.env` file is the single source of truth for your Dockermex configuration. Here's a breakdown of the key sections:\n"
   ]
  },
  {
   "cell_type": "code",
   "execution_count": null,
   "metadata": {
    "vscode": {
     "languageId": "shellscript"
    }
   },
   "outputs": [],
   "source": [
    "# Security Configuration\n",
    "SECRET_KEY=your_secret_key_here           # Flask secret key\n",
    "DB_SALT=your_database_salt               # Database security salt\n",
    "ADMIN_PASSWORD=your_admin_password       # Initial admin password\n",
    "\n",
    "# Server Configuration\n",
    "ODAPORT=10666                           # Default Odamex port\n",
    "NGINX_VERSION=1.27.5                    # Nginx version for builds\n",
    "\n",
    "# Resource Limits\n",
    "ODAMEX_CPU_LIMIT=0.2                    # CPU limit for game servers\n",
    "ODAMEX_MEMORY_LIMIT=64M                 # Memory limit for game servers\n",
    "FRONTEND_CPU_LIMIT=1                    # CPU limit for frontend\n",
    "FRONTEND_MEMORY_LIMIT=256M              # Memory limit for frontend\n",
    "API_CPU_LIMIT=1                         # CPU limit for API\n",
    "API_MEMORY_LIMIT=128M                   # Memory limit for API\n",
    "\n",
    "# File Paths\n",
    "IWAD_FOLDER=./iwads/freeware            # Location of IWAD files\n",
    "PWAD_FOLDER=./pwads                     # Location of PWAD files\n",
    "ODAMEX_CONFIGS_PATH=./configs           # Server configuration files\n",
    "\n",
    "# WAD Download Configuration\n",
    "WAD_DOWNLOAD_URL=wads.yourdomain.com    # Your WAD download URL\n",
    "\n",
    "# SSL Certificates\n",
    "SSL_PRIVATE_KEY=./.ssl/private.key      # SSL private key\n",
    "SSL_FULLCHAIN_CERT=./.ssl/fullchain.crt # SSL certificate chain\n",
    "SSL_WADS_KEY=./.ssl/wads.key           # WAD service SSL key\n",
    "SSL_WADS_CERT=./.ssl/wads.crt          # WAD service SSL cert\n",
    "\n",
    "# Frontend Configuration\n",
    "NGINX_CONF_PATH=./Dockermex_Frontend/nginx/nginx.conf\n",
    "NGINX_INCLUDES_PATH=./Dockermex_Frontend/nginx/conf.d\n",
    "MODSECURITY_RULES_PATH=./Dockermex_Frontend/nginx/modsecurity\n",
    "WEBAPP_ROOT_PATH=./Dockermex_Frontend/html"
   ]
  },
  {
   "cell_type": "markdown",
   "metadata": {},
   "source": [
    "### Configuration Best Practices\n",
    "\n",
    "1. **Security**: Use strong, unique passwords and keys\n",
    "2. **Paths**: Use absolute paths where possible\n",
    "3. **Resources**: Adjust limits based on your hardware\n",
    "4. **SSL**: Use valid certificates for production\n",
    "5. **Backup**: Keep a secure backup of your `.env` file\n"
   ]
  },
  {
   "cell_type": "markdown",
   "metadata": {},
   "source": [
    "## 5. Docker Components {#docker}\n",
    "\n",
    "### Available Dockerfiles\n",
    "\n",
    "| Dockerfile | Purpose | Build Optimization |\n",
    "|------------|---------|--------------------|\n",
    "| `Dockerfile` | Standard Odamex build | Release build |\n",
    "| `Dockerfile.Alpine` | Lightweight Alpine build | Minimal size |\n",
    "| `Dockerfile.Freedoom` | With Freedoom WADs included | Freedoom integration |\n",
    "| `Dockerfile.TinyOdamex` | Minimal size build | MinSizRel build |\n",
    "| `Dockerfile.Nodamex` | No pre-built WADs | Clean server |\n",
    "| `Dockerfile.nginx` | ModSecurity + Nginx | Security focused |\n",
    "\n",
    "### Docker Compose Files\n",
    "\n",
    "#### Main Compose Files\n",
    "- **`docker-compose-webapp-modsec.yml`**: Full web application with security\n",
    "- **`docker-compose-odamex.yml`**: Sample Odamex server configurations  \n",
    "- **`docker-compose.yml.template`**: Template for custom configurations\n",
    "\n",
    "### Building Custom Images"
   ]
  },
  {
   "cell_type": "code",
   "execution_count": null,
   "metadata": {
    "vscode": {
     "languageId": "shellscript"
    }
   },
   "outputs": [],
   "source": [
    "# Build standard Odamex image\n",
    "docker build -t odamex:latest .\n",
    "\n",
    "# Build Alpine variant (smaller size)\n",
    "docker build -f Dockerfiles/Dockerfile.Alpine -t odamex:alpine .\n",
    "\n",
    "# Build with Freedoom included\n",
    "docker build -f Dockerfiles/Dockerfile.Freedoom -t odamex:freedoom .\n",
    "\n",
    "# Build Nginx with ModSecurity\n",
    "docker build -f Dockerfiles/Dockerfile.nginx -t dockermex:nginx-modsec ./Dockermex_Frontend"
   ]
  },
  {
   "cell_type": "markdown",
   "metadata": {},
   "source": [
    "### Container Resource Management\n",
    "\n",
    "All containers use configurable resource limits defined in your `.env` file:\n",
    "\n",
    "- **Game Servers**: Limited CPU/memory to prevent resource exhaustion\n",
    "- **Frontend**: Higher limits for handling web traffic\n",
    "- **API**: Moderate limits for API processing\n",
    "\n",
    "### Networking\n",
    "\n",
    "- **Bridge Network**: `wad-net` for internal communication\n",
    "- **Port Mapping**: Game servers expose UDP ports for clients\n",
    "- **SSL Termination**: Nginx handles all SSL/TLS\n"
   ]
  },
  {
   "cell_type": "markdown",
   "metadata": {},
   "source": [
    "## 6. API Documentation {#api}\n",
    "\n",
    "### Core API Endpoints\n",
    "\n",
    "The Flask API provides RESTful endpoints for managing the entire system:\n",
    "\n",
    "#### Authentication\n",
    "- `POST /login` - User authentication\n",
    "- `POST /logout` - Session termination\n",
    "- `GET /auth-check` - Verify authentication status\n",
    "\n",
    "#### WAD Management\n",
    "- `POST /upload` - Upload WAD files\n",
    "- `GET /wads` - List available WADs\n",
    "- `DELETE /wads/{id}` - Remove WAD file\n",
    "\n",
    "#### Server Configuration\n",
    "- `POST /server-config` - Create server configuration\n",
    "- `GET /server-config` - List configurations\n",
    "- `PUT /server-config/{id}` - Update configuration\n",
    "- `DELETE /server-config/{id}` - Remove configuration\n",
    "\n",
    "#### Server Management\n",
    "- `POST /servers/start` - Start game server\n",
    "- `POST /servers/stop` - Stop game server\n",
    "- `GET /servers/status` - Get server status\n",
    "\n",
    "#### Admin Functions\n",
    "- `GET /admin/users` - User management\n",
    "- `POST /admin/users` - Create user\n",
    "- `GET /admin/sessions` - Session management\n",
    "\n",
    "### API Security Features\n",
    "\n",
    "- **Rate Limiting**: Prevents API abuse\n",
    "- **Input Validation**: Sanitizes all inputs\n",
    "- **Session Management**: Secure cookie handling\n",
    "- **Role-Based Access**: Admin vs. user permissions\n",
    "- **CSRF Protection**: Cross-site request forgery prevention\n"
   ]
  },
  {
   "cell_type": "markdown",
   "metadata": {},
   "source": [
    "## 7. Configuration Management {#configuration}\n",
    "\n",
    "### Odamex Server Configurations\n",
    "\n",
    "Server configurations are stored in the `configs/` directory and define game rules, networking, and gameplay parameters.\n",
    "\n",
    "#### Available Presets\n",
    "- **`dm-modern.cfg`**: Modern deathmatch (16 players, no jump/freelook)\n",
    "- **`coop-modern.cfg`**: Cooperative play (8 players, modern rules)\n",
    "- **`coop-full-throttle.cfg`**: Fast-paced cooperative\n",
    "- **`horde-modern.cfg`**: Horde mode gameplay\n",
    "- **`tdm-modern.cfg`**: Team deathmatch\n",
    "\n",
    "#### Configuration Template System\n",
    "\n",
    "Use the provided AWK script to generate templates from existing configs:"
   ]
  },
  {
   "cell_type": "code",
   "execution_count": null,
   "metadata": {
    "vscode": {
     "languageId": "shellscript"
    }
   },
   "outputs": [],
   "source": [
    "# Generate template from existing config\n",
    "awk -f generate_config_template.awk configs/dm-modern.cfg > templates/dm-template.cfg\n",
    "\n",
    "# The template will have placeholders like:\n",
    "# set sv_hostname \"{{SV_HOSTNAME}}\"\n",
    "# set sv_maxplayers \"{{SV_MAXPLAYERS}}\"\n",
    "# set sv_fraglimit \"{{SV_FRAGLIMIT}}\""
   ]
  },
  {
   "cell_type": "markdown",
   "metadata": {},
   "source": [
    "### Key Configuration Categories\n",
    "\n",
    "#### Network Settings\n",
    "- `sv_hostname`: Server name visible in browser\n",
    "- `sv_maxplayers`: Maximum player count\n",
    "- `sv_waddownload`: Enable WAD downloading\n",
    "- `sv_downloadsites`: WAD download URLs\n",
    "\n",
    "#### Game Rules\n",
    "- `sv_gametype`: Game mode (0=Coop, 1=DM, 2=TDM, 4=CTF)\n",
    "- `sv_fraglimit`: Frag limit for deathmatch\n",
    "- `sv_timelimit`: Time limit in minutes\n",
    "- `sv_skill`: Difficulty level (1-5)\n",
    "\n",
    "#### Gameplay Modifiers\n",
    "- `sv_allowjump`: Enable/disable jumping\n",
    "- `sv_freelook`: Enable/disable mouselook\n",
    "- `sv_weaponstay`: Weapons stay after pickup\n",
    "- `sv_itemsrespawn`: Items respawn after pickup\n",
    "\n",
    "### Service Configuration\n",
    "\n",
    "Service configurations in `service-configs/` define how Docker containers are launched with specific parameters:\n",
    "\n",
    "```json\n",
    "{\n",
    "  \"service_name\": \"doom_coop_server\",\n",
    "  \"image\": \"odamex:latest\",\n",
    "  \"ports\": {\"10666/udp\": 10666},\n",
    "  \"environment\": {\n",
    "    \"IWAD\": \"freedoom2.wad\",\n",
    "    \"CONFIGFILE\": \"coop-modern.cfg\",\n",
    "    \"ODAPORT\": \"10666\"\n",
    "  },\n",
    "  \"volumes\": {\n",
    "    \"./iwads\": {\"bind\": \"/app/iwads\", \"mode\": \"ro\"},\n",
    "    \"./pwads\": {\"bind\": \"/app/pwads\", \"mode\": \"ro\"},\n",
    "    \"./configs\": {\"bind\": \"/app/config\", \"mode\": \"ro\"}\n",
    "  }\n",
    "}\n",
    "```\n"
   ]
  },
  {
   "cell_type": "markdown",
   "metadata": {},
   "source": [
    "## 8. Security Features {#security}\n",
    "\n",
    "### Web Application Firewall (ModSecurity)\n",
    "\n",
    "- **OWASP Core Rule Set**: Protection against common attacks\n",
    "- **Request Filtering**: Blocks malicious requests\n",
    "- **Rate Limiting**: Prevents DoS attacks\n",
    "- **Logging**: Comprehensive security event logging\n",
    "\n",
    "### Authentication & Authorization\n",
    "\n",
    "- **Session-Based Auth**: Secure cookie management\n",
    "- **Password Hashing**: SHA256 with salt\n",
    "- **Role-Based Access**: Admin vs. user permissions\n",
    "- **Session Expiry**: Automatic session cleanup\n",
    "\n",
    "### Input Validation\n",
    "\n",
    "- **File Type Validation**: Only `.wad` files accepted\n",
    "- **Path Sanitization**: Prevents directory traversal\n",
    "- **Size Limits**: Configurable upload limits\n",
    "- **Content Scanning**: Malicious content detection\n",
    "\n",
    "### Network Security\n",
    "\n",
    "- **SSL/TLS Encryption**: All traffic encrypted\n",
    "- **HTTPS Redirect**: Automatic HTTP to HTTPS\n",
    "- **Secure Headers**: Security-focused HTTP headers\n",
    "- **Internal Networking**: API not exposed externally\n",
    "\n",
    "### Container Security\n",
    "\n",
    "- **Non-Root Users**: Containers run as unprivileged users\n",
    "- **Resource Limits**: Prevents resource exhaustion\n",
    "- **Read-Only Mounts**: WAD and config directories mounted read-only\n",
    "- **Network Isolation**: Containers isolated in custom network\n"
   ]
  },
  {
   "cell_type": "markdown",
   "metadata": {},
   "source": [
    "## 9. Development Workflow {#development}\n",
    "\n",
    "### Local Development Setup"
   ]
  },
  {
   "cell_type": "code",
   "execution_count": null,
   "metadata": {
    "vscode": {
     "languageId": "shellscript"
    }
   },
   "outputs": [],
   "source": [
    "# Development environment setup\n",
    "git clone --recurse-submodules https://github.com/Bladetrain3r/Dockermex.git\n",
    "cd Dockermex\n",
    "\n",
    "# Create development .env\n",
    "cp .env.template .env.dev\n",
    "# Edit .env.dev with development settings\n",
    "\n",
    "# Start development services\n",
    "docker compose -f docker-compose-webapp-modsec.yml --env-file .env.dev up -d\n",
    "\n",
    "# View logs\n",
    "docker compose logs -f\n",
    "\n",
    "# Development rebuild\n",
    "docker compose build --no-cache"
   ]
  },
  {
   "cell_type": "markdown",
   "metadata": {},
   "source": [
    "### Testing\n",
    "\n",
    "#### Test Categories\n",
    "- **`tests/docker/`**: Docker container tests\n",
    "- **`tests/python/`**: API and backend tests  \n",
    "- **`tests/web/`**: Frontend functionality tests\n",
    "- **`tests/shell/`**: Shell script tests\n",
    "- **`tests/full_stack/`**: End-to-end integration tests\n",
    "\n",
    "#### Running Tests"
   ]
  },
  {
   "cell_type": "code",
   "execution_count": null,
   "metadata": {
    "vscode": {
     "languageId": "shellscript"
    }
   },
   "outputs": [],
   "source": [
    "# Run specific test category\n",
    "cd tests/docker\n",
    "./run_tests.sh\n",
    "\n",
    "# Run all tests\n",
    "cd tests\n",
    "for test_dir in */; do\n",
    "    echo \"Running tests in $test_dir\"\n",
    "    cd \"$test_dir\"\n",
    "    ./run_tests.sh\n",
    "    cd ..\n",
    "done"
   ]
  },
  {
   "cell_type": "markdown",
   "metadata": {},
   "source": [
    "### Code Organization\n",
    "\n",
    "```\n",
    "Dockermex/\n",
    "├── Dockermex_Api/           # Backend API code\n",
    "│   ├── Python/              # Flask application\n",
    "│   └── Dockerfile.Python    # API container build\n",
    "├── Dockermex_Frontend/      # Frontend web interface\n",
    "│   ├── html/                # Static web files\n",
    "│   ├── nginx/               # Nginx configuration\n",
    "│   └── Dockerfile           # Frontend container build\n",
    "├── configs/                 # Odamex server configurations\n",
    "├── Dockerfiles/             # Various container builds\n",
    "├── docs/                    # Documentation\n",
    "├── tests/                   # Test suites\n",
    "└── service-configs/         # Service definitions\n",
    "```\n",
    "\n",
    "### Git Workflow\n",
    "\n",
    "1. **Feature Branches**: Create branches for new features\n",
    "2. **Submodules**: Keep submodules updated\n",
    "3. **Pull Requests**: Use PRs for code review\n",
    "4. **Testing**: Ensure tests pass before merging\n",
    "5. **Documentation**: Update docs with changes\n"
   ]
  },
  {
   "cell_type": "markdown",
   "metadata": {},
   "source": [
    "## 10. Troubleshooting {#troubleshooting}\n",
    "\n",
    "### Common Issues\n",
    "\n",
    "#### Docker Build Failures\n",
    "**Problem**: Build fails with \"no port specified: /udp<empty>\"  \n",
    "**Solution**: Ensure ODAPORT is defined as ARG in Dockerfile and passed as build argument\n",
    "\n",
    "```dockerfile\n",
    "ARG ODAPORT=10666\n",
    "ENV ODAPORT=${ODAPORT}\n",
    "EXPOSE ${ODAPORT}/udp\n",
    "```\n",
    "\n",
    "#### SSL Certificate Issues\n",
    "**Problem**: \"SSL certificate not found\"  \n",
    "**Solution**: Generate self-signed certificates for development:"
   ]
  },
  {
   "cell_type": "code",
   "execution_count": null,
   "metadata": {
    "vscode": {
     "languageId": "shellscript"
    }
   },
   "outputs": [],
   "source": [
    "# Generate self-signed SSL certificates\n",
    "mkdir -p .ssl\n",
    "openssl req -x509 -nodes -days 365 -newkey rsa:2048 \\\n",
    "    -keyout .ssl/private.key \\\n",
    "    -out .ssl/fullchain.crt \\\n",
    "    -subj \"/C=US/ST=State/L=City/O=Org/CN=localhost\"\n",
    "\n",
    "# Copy for WAD service\n",
    "cp .ssl/private.key .ssl/wads.key\n",
    "cp .ssl/fullchain.crt .ssl/wads.crt"
   ]
  },
  {
   "cell_type": "markdown",
   "metadata": {},
   "source": [
    "#### Permission Errors\n",
    "**Problem**: \"Permission denied\" errors in containers  \n",
    "**Solution**: Check file ownership and permissions:"
   ]
  },
  {
   "cell_type": "code",
   "execution_count": null,
   "metadata": {
    "vscode": {
     "languageId": "shellscript"
    }
   },
   "outputs": [],
   "source": [
    "# Fix permissions for mounted volumes\n",
    "sudo chown -R 1000:1000 iwads pwads configs\n",
    "chmod -R 755 iwads pwads configs"
   ]
  },
  {
   "cell_type": "markdown",
   "metadata": {},
   "source": [
    "#### Server Not Starting\n",
    "**Problem**: Odamex server fails to start  \n",
    "**Solution**: Check logs and configuration:"
   ]
  },
  {
   "cell_type": "code",
   "execution_count": null,
   "metadata": {
    "vscode": {
     "languageId": "shellscript"
    }
   },
   "outputs": [],
   "source": [
    "# Check container logs\n",
    "docker logs <container_name>\n",
    "\n",
    "# Check if IWAD exists\n",
    "ls -la iwads/\n",
    "\n",
    "# Verify configuration file\n",
    "cat configs/your-config.cfg\n",
    "\n",
    "# Test configuration manually\n",
    "docker run -it --rm odamex:latest /app/server/odasrv -config /app/config/your-config.cfg"
   ]
  },
  {
   "cell_type": "markdown",
   "metadata": {},
   "source": [
    "### Diagnostic Commands"
   ]
  },
  {
   "cell_type": "code",
   "execution_count": null,
   "metadata": {
    "vscode": {
     "languageId": "shellscript"
    }
   },
   "outputs": [],
   "source": [
    "# Check container status\n",
    "docker ps -a\n",
    "\n",
    "# View resource usage\n",
    "docker stats\n",
    "\n",
    "# Check network connectivity\n",
    "docker network ls\n",
    "docker network inspect dockermex_wad-net\n",
    "\n",
    "# Test API endpoints\n",
    "curl -k https://localhost:443/\n",
    "\n",
    "# Check ModSecurity logs\n",
    "docker exec -it dockermex-frontend tail -f /var/log/modsec_audit.log\n",
    "\n",
    "# View disk usage\n",
    "du -sh iwads/ pwads/ configs/"
   ]
  },
  {
   "cell_type": "markdown",
   "metadata": {},
   "source": [
    "### Performance Tuning\n",
    "\n",
    "#### Resource Optimization\n",
    "- Adjust CPU/memory limits in `.env` based on hardware\n",
    "- Use Alpine-based images for smaller footprint\n",
    "- Monitor container resource usage with `docker stats`\n",
    "\n",
    "#### Network Optimization\n",
    "- Use dedicated networks for container communication\n",
    "- Configure appropriate MTU settings\n",
    "- Monitor network latency to game servers\n",
    "\n",
    "#### Storage Optimization\n",
    "- Use bind mounts for development, volumes for production\n",
    "- Implement WAD deduplication\n",
    "- Regular cleanup of unused containers and images\n"
   ]
  },
  {
   "cell_type": "markdown",
   "metadata": {},
   "source": [
    "## 11. Contributing {#contributing}\n",
    "\n",
    "### How to Contribute\n",
    "\n",
    "1. **Fork the Repository**: Create your own fork on GitHub\n",
    "2. **Create Feature Branch**: `git checkout -b feature/amazing-feature`\n",
    "3. **Make Changes**: Implement your feature or fix\n",
    "4. **Test Thoroughly**: Run all relevant test suites\n",
    "5. **Update Documentation**: Add or update relevant docs\n",
    "6. **Submit Pull Request**: Create PR with clear description\n",
    "\n",
    "### Code Standards\n",
    "\n",
    "- **Python**: Follow PEP 8 style guidelines\n",
    "- **Docker**: Use multi-stage builds where appropriate\n",
    "- **Documentation**: Keep README and docs updated\n",
    "- **Security**: Follow security best practices\n",
    "- **Testing**: Include tests for new functionality\n",
    "\n",
    "### Areas for Contribution\n",
    "\n",
    "#### High Priority\n",
    "- Configuration parameterization (#25)\n",
    "- Architecture documentation (#24)\n",
    "- SIEM integration (#23)\n",
    "- Server control improvements (#9)\n",
    "\n",
    "#### Medium Priority\n",
    "- WAD file validation enhancements\n",
    "- Additional source port support\n",
    "- Performance optimizations\n",
    "- UI/UX improvements\n",
    "\n",
    "#### Low Priority\n",
    "- Additional configuration templates\n",
    "- Extended API functionality\n",
    "- Additional security hardening\n",
    "- Documentation improvements\n",
    "\n",
    "### Support Channels\n",
    "\n",
    "- **GitHub Issues**: Bug reports and feature requests\n",
    "- **Doomworld Forums**: Community discussions (zerofuchs)\n",
    "- **Pull Requests**: Code contributions and reviews\n",
    "\n",
    "### License\n",
    "\n",
    "This project is open source. Please review the LICENSE file for details on usage and distribution.\n",
    "\n",
    "---\n",
    "\n",
    "## Conclusion\n",
    "\n",
    "Dockermex represents a comprehensive solution for DOOM server hosting with modern DevOps practices. The combination of containerization, security-first design, and user-friendly interfaces makes it accessible to both technical and non-technical users.\n",
    "\n",
    "The project's modular architecture allows for easy customization and extension, while the parameterized configuration system ensures flexibility across different deployment scenarios.\n",
    "\n",
    "Whether you're a mapper testing new content, a community organizer hosting events, or just someone who wants to play DOOM with friends, Dockermex provides the tools and infrastructure to make it happen with minimal friction.\n",
    "\n",
    "**Happy fragging!** 🎮💀\n",
    "\n",
    "---\n",
    "\n",
    "*Last updated: June 2025*  \n",
    "*Version: 0.3 (Alpha)*  \n",
    "*Maintainer: zerofuchs*"
   ]
  }
 ],
 "metadata": {
  "kernelspec": {
   "display_name": "Python 3",
   "language": "python",
   "name": "python3"
  },
  "language_info": {
   "codemirror_mode": {
    "name": "ipython",
    "version": 3
   },
   "file_extension": ".py",
   "mimetype": "text/x-python",
   "name": "python",
   "nbconvert_exporter": "python",
   "pygments_lexer": "ipython3",
   "version": "3.8.0"
  }
 },
 "nbformat": 4,
 "nbformat_minor": 4
}
